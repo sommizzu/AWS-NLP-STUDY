{
  "cells": [
    {
      "cell_type": "markdown",
      "metadata": {
        "id": "view-in-github",
        "colab_type": "text"
      },
      "source": [
        "<a href=\"https://colab.research.google.com/github/sommizzu/AWS-NLP-STUDY/blob/main/Teach_1day.ipynb\" target=\"_parent\"><img src=\"https://colab.research.google.com/assets/colab-badge.svg\" alt=\"Open In Colab\"/></a>"
      ]
    },
    {
      "cell_type": "code",
      "execution_count": null,
      "id": "81ae63ce-3542-43bf-9015-d869965cb659",
      "metadata": {
        "tags": [],
        "id": "81ae63ce-3542-43bf-9015-d869965cb659"
      },
      "outputs": [],
      "source": [
        "# AND gate를 표현한 단층 퍼셉트론\n",
        "def AND_gate( X1, X2 ):\n",
        "    w1 = 0.5\n",
        "    w2 = 0.5\n",
        "    b = -0.7\n",
        "    result = X1 * w1 + X2 * w2 + b # 출력층에 입력값\n",
        "\n",
        "    # 출력층의 y값 결정\n",
        "    if result <= 0:\n",
        "        return 0\n",
        "    else:\n",
        "        return 1"
      ]
    },
    {
      "cell_type": "code",
      "execution_count": null,
      "id": "2996f8e6-445a-40d6-8041-61d7278cf15c",
      "metadata": {
        "tags": [],
        "id": "2996f8e6-445a-40d6-8041-61d7278cf15c",
        "outputId": "1010c39b-e3ab-4fa4-f685-3eb9a79cb1f4"
      },
      "outputs": [
        {
          "data": {
            "text/plain": [
              "(0, 0, 0, 1)"
            ]
          },
          "execution_count": 2,
          "metadata": {},
          "output_type": "execute_result"
        }
      ],
      "source": [
        "AND_gate( 0, 0 ), AND_gate( 0, 1 ), AND_gate( 1, 0 ), AND_gate( 1, 1 )"
      ]
    },
    {
      "cell_type": "code",
      "execution_count": null,
      "id": "7a3d5f97-e3d1-4ee9-b8f7-097ad53bb204",
      "metadata": {
        "tags": [],
        "id": "7a3d5f97-e3d1-4ee9-b8f7-097ad53bb204"
      },
      "outputs": [],
      "source": [
        "# NAND gate를 표현한 단층 퍼셉트론\n",
        "def NAND_gate( X1, X2 ):\n",
        "    w1 = -0.5\n",
        "    w2 = -0.5\n",
        "    b = 0.7\n",
        "    result = X1 * w1 + X2 * w2 + b # 출력층에 입력값\n",
        "\n",
        "    # 출력층의 y값 결정\n",
        "    if result <= 0:\n",
        "        return 0\n",
        "    else:\n",
        "        return 1"
      ]
    },
    {
      "cell_type": "code",
      "execution_count": null,
      "id": "59979307-2ec0-4f7f-bdeb-8edc99a02ebf",
      "metadata": {
        "tags": [],
        "id": "59979307-2ec0-4f7f-bdeb-8edc99a02ebf",
        "outputId": "80a3d8b3-754f-4c31-d726-ce71864fca1a"
      },
      "outputs": [
        {
          "data": {
            "text/plain": [
              "(1, 1, 1, 0)"
            ]
          },
          "execution_count": 4,
          "metadata": {},
          "output_type": "execute_result"
        }
      ],
      "source": [
        "NAND_gate( 0, 0 ), NAND_gate( 0, 1 ), NAND_gate( 1, 0 ), NAND_gate( 1, 1 )"
      ]
    },
    {
      "cell_type": "code",
      "execution_count": null,
      "id": "b4680350-793e-41cc-bec5-4ed0eef67c0a",
      "metadata": {
        "tags": [],
        "id": "b4680350-793e-41cc-bec5-4ed0eef67c0a"
      },
      "outputs": [],
      "source": [
        "# OR gate를 표현한 단층 퍼셉트론\n",
        "def OR_gate( X1, X2 ):\n",
        "    w1 = 0.6\n",
        "    w2 = 0.6\n",
        "    b = -0.5\n",
        "    result = X1 * w1 + X2 * w2 + b # 출력층에 입력값\n",
        "\n",
        "    # 출력층의 y값 결정\n",
        "    if result <= 0:\n",
        "        return 0\n",
        "    else:\n",
        "        return 1"
      ]
    },
    {
      "cell_type": "code",
      "execution_count": null,
      "id": "352e0b46-adf4-4ec6-932a-8e58c3ee00f4",
      "metadata": {
        "tags": [],
        "id": "352e0b46-adf4-4ec6-932a-8e58c3ee00f4",
        "outputId": "da0abb6b-bf0f-4100-a02e-01221aa71afc"
      },
      "outputs": [
        {
          "data": {
            "text/plain": [
              "(0, 1, 1, 1)"
            ]
          },
          "execution_count": 6,
          "metadata": {},
          "output_type": "execute_result"
        }
      ],
      "source": [
        "OR_gate( 0, 0 ), OR_gate( 0, 1 ), OR_gate( 1, 0 ), OR_gate( 1, 1 )"
      ]
    },
    {
      "cell_type": "code",
      "execution_count": null,
      "id": "a9bb63f7-04d1-4359-8e30-6cc77876461f",
      "metadata": {
        "tags": [],
        "id": "a9bb63f7-04d1-4359-8e30-6cc77876461f"
      },
      "outputs": [],
      "source": [
        "# XOR gate를 표현한 단층 퍼셉트론\n",
        "def XOR_gate( X1, X2 ):\n",
        "    w1 = 0.6\n",
        "    w2 = 0.6\n",
        "    b = -0.5\n",
        "    result = X1 * w1 + X2 * w2 + b # 출력층에 입력값\n",
        "\n",
        "    # 출력층의 y값 결정\n",
        "    if result <= 0:\n",
        "        return 0\n",
        "    else:\n",
        "        return 1"
      ]
    },
    {
      "cell_type": "code",
      "execution_count": null,
      "id": "fbdd1a1a-7144-4ee0-8739-8accbf52c691",
      "metadata": {
        "tags": [],
        "id": "fbdd1a1a-7144-4ee0-8739-8accbf52c691",
        "outputId": "90190c7a-b125-46ff-f020-64966c91e8ed"
      },
      "outputs": [
        {
          "data": {
            "text/plain": [
              "(0, 1, 1, 1)"
            ]
          },
          "execution_count": 8,
          "metadata": {},
          "output_type": "execute_result"
        }
      ],
      "source": [
        "XOR_gate( 0, 0 ), XOR_gate( 0, 1 ), XOR_gate( 1, 0 ), XOR_gate( 1, 1 )"
      ]
    },
    {
      "cell_type": "code",
      "execution_count": null,
      "id": "8a88f5f2-c5e9-47e4-85ed-2dbdf435ebdd",
      "metadata": {
        "tags": [],
        "id": "8a88f5f2-c5e9-47e4-85ed-2dbdf435ebdd"
      },
      "outputs": [],
      "source": [
        "# 다층 퍼셉트론\n",
        "def XOR_gate( X1, X2 ):\n",
        "    # 은닉층\n",
        "    s1 = NAND_gate( X1, X2 )\n",
        "    s2 = OR_gate( X1, X2 )\n",
        "\n",
        "    # 출력층\n",
        "    y = AND_gate( s1, s2 )\n",
        "\n",
        "    return y"
      ]
    },
    {
      "cell_type": "code",
      "execution_count": null,
      "id": "f12b1b23-64aa-44ff-9924-c9380aa4a0fe",
      "metadata": {
        "tags": [],
        "id": "f12b1b23-64aa-44ff-9924-c9380aa4a0fe",
        "outputId": "36fa2378-4d7a-4118-e2d2-99468d38be8b"
      },
      "outputs": [
        {
          "data": {
            "text/plain": [
              "(0, 1, 1, 0)"
            ]
          },
          "execution_count": 10,
          "metadata": {},
          "output_type": "execute_result"
        }
      ],
      "source": [
        "XOR_gate( 0, 0 ), XOR_gate( 0, 1 ), XOR_gate( 1, 0 ), XOR_gate( 1, 1 )"
      ]
    },
    {
      "cell_type": "code",
      "execution_count": null,
      "id": "e3a10873-6563-4de1-9c4c-c3138cf99d83",
      "metadata": {
        "id": "e3a10873-6563-4de1-9c4c-c3138cf99d83"
      },
      "outputs": [],
      "source": []
    }
  ],
  "metadata": {
    "kernelspec": {
      "display_name": "Python 3 (ipykernel)",
      "language": "python",
      "name": "python3"
    },
    "language_info": {
      "codemirror_mode": {
        "name": "ipython",
        "version": 3
      },
      "file_extension": ".py",
      "mimetype": "text/x-python",
      "name": "python",
      "nbconvert_exporter": "python",
      "pygments_lexer": "ipython3",
      "version": "3.8.1"
    },
    "colab": {
      "provenance": [],
      "include_colab_link": true
    }
  },
  "nbformat": 4,
  "nbformat_minor": 5
}