{
  "cells": [
    {
      "cell_type": "markdown",
      "metadata": {
        "id": "view-in-github",
        "colab_type": "text"
      },
      "source": [
        "<a href=\"https://colab.research.google.com/github/sommizzu/AWS-NLP-STUDY/blob/main/Teach_3day.ipynb\" target=\"_parent\"><img src=\"https://colab.research.google.com/assets/colab-badge.svg\" alt=\"Open In Colab\"/></a>"
      ]
    },
    {
      "cell_type": "markdown",
      "id": "4293a47e-0c4b-4b1f-a971-69cded87c19c",
      "metadata": {
        "id": "4293a47e-0c4b-4b1f-a971-69cded87c19c"
      },
      "source": [
        "# Keras 전처리( preprocessing ) 관련 함수"
      ]
    },
    {
      "cell_type": "code",
      "execution_count": null,
      "id": "b7c0c693-79bc-4fab-a6d8-6a3a4ff98bc8",
      "metadata": {
        "tags": [],
        "id": "b7c0c693-79bc-4fab-a6d8-6a3a4ff98bc8"
      },
      "outputs": [],
      "source": [
        "from tensorflow.keras.preprocessing.text import Tokenizer\n",
        "from tensorflow.keras.preprocessing.sequence import pad_sequences"
      ]
    },
    {
      "cell_type": "code",
      "execution_count": null,
      "id": "cd6f2cb0-24a4-4045-9d1f-81640187466b",
      "metadata": {
        "tags": [],
        "id": "cd6f2cb0-24a4-4045-9d1f-81640187466b",
        "outputId": "da14c52f-9e31-48b2-9a70-dfabddc2e6b3"
      },
      "outputs": [
        {
          "name": "stdout",
          "output_type": "stream",
          "text": [
            "정수 인코딩 : [1, 2, 3, 4, 5, 6, 7]\n",
            "단어 집합 : {'the': 1, 'earth': 2, 'is': 3, 'an': 4, 'awesome': 5, 'place': 6, 'live': 7}\n"
          ]
        }
      ],
      "source": [
        "tokenizer = Tokenizer()\n",
        "train_text = 'The earth is an awesome place live'\n",
        "\n",
        "tokenizer.fit_on_texts( [ train_text ] ) # 단어 집합 생성\n",
        "\n",
        "sub_text = 'The earth is an awesome place live'\n",
        "sequences = tokenizer.texts_to_sequences( [ sub_text ] )[ 0 ] # 정수 인코딩\n",
        "\n",
        "print( f'정수 인코딩 : {sequences}' )\n",
        "print( f'단어 집합 : {tokenizer.word_index}' )"
      ]
    },
    {
      "cell_type": "code",
      "execution_count": null,
      "id": "09bdb10a-9ab3-4eb6-b99a-621f7d43d2a8",
      "metadata": {
        "tags": [],
        "id": "09bdb10a-9ab3-4eb6-b99a-621f7d43d2a8",
        "outputId": "015a3c5e-cc13-45c6-e36d-0c99f627202b"
      },
      "outputs": [
        {
          "data": {
            "text/plain": [
              "array([[0, 1, 2, 3],\n",
              "       [3, 4, 5, 6],\n",
              "       [0, 0, 0, 7]])"
            ]
          },
          "execution_count": 7,
          "metadata": {},
          "output_type": "execute_result"
        }
      ],
      "source": [
        "pad_sequences( [ [ 1, 2, 3 ], [ 3, 4, 5, 6 ], [ 7 ] ],\n",
        "               maxlen = 4,\n",
        "               padding = 'pre' )"
      ]
    },
    {
      "cell_type": "markdown",
      "id": "e5eaccdb-4887-45c3-84e5-4df572a3ab43",
      "metadata": {
        "id": "e5eaccdb-4887-45c3-84e5-4df572a3ab43"
      },
      "source": [
        "# 워드 임베딩( word embedding )"
      ]
    },
    {
      "cell_type": "code",
      "execution_count": null,
      "id": "6c04554a-3283-48d1-a81c-d62a1cecaa96",
      "metadata": {
        "tags": [],
        "id": "6c04554a-3283-48d1-a81c-d62a1cecaa96"
      },
      "outputs": [],
      "source": [
        "import tensorflow as tf"
      ]
    },
    {
      "cell_type": "code",
      "execution_count": null,
      "id": "0d679541-4aa7-4776-956b-6889ebb35149",
      "metadata": {
        "tags": [],
        "id": "0d679541-4aa7-4776-956b-6889ebb35149"
      },
      "outputs": [],
      "source": [
        "# 토큰화\n",
        "tokenized_text = [ [ 'Hope', 'to', 'see', 'you', 'soon' ],\n",
        "                   [ 'Nice', 'to', 'see', 'you', 'again' ] ]"
      ]
    },
    {
      "cell_type": "code",
      "execution_count": null,
      "id": "da7fe43c-2667-4433-a5ec-93f5858359aa",
      "metadata": {
        "tags": [],
        "id": "da7fe43c-2667-4433-a5ec-93f5858359aa"
      },
      "outputs": [],
      "source": [
        "# 정수 인코딩\n",
        "encoded_text = [ [ 0, 1, 2, 3, 4 ], [ 5, 1, 2, 3, 6 ] ]"
      ]
    },
    {
      "cell_type": "code",
      "execution_count": null,
      "id": "79d37d13-8c73-4679-bf89-2e250e740268",
      "metadata": {
        "tags": [],
        "id": "79d37d13-8c73-4679-bf89-2e250e740268"
      },
      "outputs": [],
      "source": [
        "# Embedding layer\n",
        "vocab_size = 7\n",
        "embedded_dim = 2\n",
        "embedded_result = tf.keras.layers.Embedding( vocab_size, embedded_dim, input_length = 5 )"
      ]
    },
    {
      "cell_type": "code",
      "execution_count": null,
      "id": "2793ad91-73a7-40a2-98b9-ed2b6af20217",
      "metadata": {
        "tags": [],
        "id": "2793ad91-73a7-40a2-98b9-ed2b6af20217"
      },
      "outputs": [],
      "source": []
    },
    {
      "cell_type": "code",
      "execution_count": null,
      "id": "2e5a3fb6-ce93-401a-a4c3-9e6ccf2f96f3",
      "metadata": {
        "id": "2e5a3fb6-ce93-401a-a4c3-9e6ccf2f96f3"
      },
      "outputs": [],
      "source": []
    }
  ],
  "metadata": {
    "kernelspec": {
      "display_name": "Python 3 (ipykernel)",
      "language": "python",
      "name": "python3"
    },
    "language_info": {
      "codemirror_mode": {
        "name": "ipython",
        "version": 3
      },
      "file_extension": ".py",
      "mimetype": "text/x-python",
      "name": "python",
      "nbconvert_exporter": "python",
      "pygments_lexer": "ipython3",
      "version": "3.8.1"
    },
    "colab": {
      "provenance": [],
      "include_colab_link": true
    }
  },
  "nbformat": 4,
  "nbformat_minor": 5
}