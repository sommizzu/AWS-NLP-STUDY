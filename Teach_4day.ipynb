{
  "cells": [
    {
      "cell_type": "markdown",
      "metadata": {
        "id": "view-in-github",
        "colab_type": "text"
      },
      "source": [
        "<a href=\"https://colab.research.google.com/github/sommizzu/AWS-NLP-STUDY/blob/main/Teach_4day.ipynb\" target=\"_parent\"><img src=\"https://colab.research.google.com/assets/colab-badge.svg\" alt=\"Open In Colab\"/></a>"
      ]
    },
    {
      "cell_type": "markdown",
      "id": "0878aef2-c35c-40c8-8d02-35ae87553b8c",
      "metadata": {
        "id": "0878aef2-c35c-40c8-8d02-35ae87553b8c"
      },
      "source": [
        "# Keras Functional API"
      ]
    },
    {
      "cell_type": "code",
      "execution_count": null,
      "id": "52b557bc-9a05-4585-9347-9f52f0aa937b",
      "metadata": {
        "tags": [],
        "id": "52b557bc-9a05-4585-9347-9f52f0aa937b"
      },
      "outputs": [],
      "source": [
        "from tensorflow.keras.layers import Input, Dense\n",
        "from tensorflow.keras.models import Model"
      ]
    },
    {
      "cell_type": "markdown",
      "id": "e481381d-51ad-4bc6-aa6e-f482753f98ab",
      "metadata": {
        "id": "e481381d-51ad-4bc6-aa6e-f482753f98ab"
      },
      "source": [
        "## Fully-connected FFNN\n",
        "\n",
        "### Functional API"
      ]
    },
    {
      "cell_type": "markdown",
      "id": "9725c09e-45cf-4fdc-bd21-2dde06e35541",
      "metadata": {
        "id": "9725c09e-45cf-4fdc-bd21-2dde06e35541"
      },
      "source": [
        "### 입력층"
      ]
    },
    {
      "cell_type": "code",
      "execution_count": null,
      "id": "7d31f392-a074-4374-ad62-207ed44246bf",
      "metadata": {
        "tags": [],
        "id": "7d31f392-a074-4374-ad62-207ed44246bf"
      },
      "outputs": [],
      "source": [
        "inputs = Input( shape = ( 10, ) ) # Input()에 입력 크기 정의"
      ]
    },
    {
      "cell_type": "markdown",
      "id": "c207e239-8d5b-4048-8e3a-b563bd5860d0",
      "metadata": {
        "id": "c207e239-8d5b-4048-8e3a-b563bd5860d0"
      },
      "source": [
        "### 은닉층/출력층"
      ]
    },
    {
      "cell_type": "code",
      "execution_count": null,
      "id": "7087841d-4022-41a2-8c18-8a47b7472377",
      "metadata": {
        "tags": [],
        "id": "7087841d-4022-41a2-8c18-8a47b7472377"
      },
      "outputs": [],
      "source": [
        "# 이전층을 다음층 함수의 입력으로 사용, 변수에 결과를 저장\n",
        "hidden1 = Dense( 64, activation = 'relu' )( inputs )\n",
        "hidden2 = Dense( 64, activation = 'relu' )( hidden1 )\n",
        "output = Dense( 1, activation = 'sigmoid' )( hidden2 )"
      ]
    },
    {
      "cell_type": "markdown",
      "id": "ce467cc8-7cfb-452c-b547-4f8438eef95a",
      "metadata": {
        "id": "ce467cc8-7cfb-452c-b547-4f8438eef95a"
      },
      "source": [
        "### 신경망 모델 생성"
      ]
    },
    {
      "cell_type": "code",
      "execution_count": null,
      "id": "371b54ca-5c8e-4b6f-a8a0-b9dfc4d45d7e",
      "metadata": {
        "tags": [],
        "id": "371b54ca-5c8e-4b6f-a8a0-b9dfc4d45d7e"
      },
      "outputs": [],
      "source": [
        "# 최종 신경망 모델 생성, 입력층과 출력층 결정\n",
        "model = Model( inputs = inputs, outputs = output )"
      ]
    },
    {
      "cell_type": "code",
      "execution_count": null,
      "id": "37f77426-28ca-4524-892a-18cfebfdfb4d",
      "metadata": {
        "tags": [],
        "id": "37f77426-28ca-4524-892a-18cfebfdfb4d",
        "outputId": "db593bda-83dc-4129-838e-85c383ee6ff7"
      },
      "outputs": [
        {
          "name": "stdout",
          "output_type": "stream",
          "text": [
            "Model: \"model\"\n",
            "_________________________________________________________________\n",
            " Layer (type)                Output Shape              Param #   \n",
            "=================================================================\n",
            " input_2 (InputLayer)        [(None, 10)]              0         \n",
            "                                                                 \n",
            " dense_1 (Dense)             (None, 64)                704       \n",
            "                                                                 \n",
            " dense_2 (Dense)             (None, 64)                4160      \n",
            "                                                                 \n",
            " dense_3 (Dense)             (None, 1)                 65        \n",
            "                                                                 \n",
            "=================================================================\n",
            "Total params: 4929 (19.25 KB)\n",
            "Trainable params: 4929 (19.25 KB)\n",
            "Non-trainable params: 0 (0.00 Byte)\n",
            "_________________________________________________________________\n"
          ]
        }
      ],
      "source": [
        "model.summary()"
      ]
    },
    {
      "cell_type": "code",
      "execution_count": null,
      "id": "5189fb4d-3f84-492a-a2fc-d8177c534d0e",
      "metadata": {
        "tags": [],
        "id": "5189fb4d-3f84-492a-a2fc-d8177c534d0e",
        "outputId": "b153581b-559f-47d9-f644-d2492bed640a"
      },
      "outputs": [
        {
          "name": "stdout",
          "output_type": "stream",
          "text": [
            "Model: \"model_1\"\n",
            "_________________________________________________________________\n",
            " Layer (type)                Output Shape              Param #   \n",
            "=================================================================\n",
            " input_3 (InputLayer)        [(None, 10)]              0         \n",
            "                                                                 \n",
            " dense_13 (Dense)            (None, 64)                704       \n",
            "                                                                 \n",
            " dense_14 (Dense)            (None, 64)                4160      \n",
            "                                                                 \n",
            " dense_15 (Dense)            (None, 1)                 65        \n",
            "                                                                 \n",
            "=================================================================\n",
            "Total params: 4929 (19.25 KB)\n",
            "Trainable params: 4929 (19.25 KB)\n",
            "Non-trainable params: 0 (0.00 Byte)\n",
            "_________________________________________________________________\n"
          ]
        }
      ],
      "source": [
        "inputs = Input( shape = ( 10, ) )\n",
        "x = Dense( 64, activation = \"relu\" )( inputs )\n",
        "x = Dense( 64, activation = \"relu\" )( x )\n",
        "x = Dense( 1, activation = \"sigmoid\" )( x )\n",
        "\n",
        "model_2 = Model( inputs = inputs, outputs = x )\n",
        "\n",
        "model_2.summary()"
      ]
    },
    {
      "cell_type": "markdown",
      "id": "223f035d-a0db-4777-8587-3890bf8c3d05",
      "metadata": {
        "id": "223f035d-a0db-4777-8587-3890bf8c3d05"
      },
      "source": [
        "### Sequential API"
      ]
    },
    {
      "cell_type": "code",
      "execution_count": null,
      "id": "423a8f4d-cf3e-42a5-803e-b0051ab98f27",
      "metadata": {
        "tags": [],
        "id": "423a8f4d-cf3e-42a5-803e-b0051ab98f27"
      },
      "outputs": [],
      "source": [
        "from tensorflow.keras.models import Sequential"
      ]
    },
    {
      "cell_type": "code",
      "execution_count": null,
      "id": "0813aaa8-ea96-44ba-80a5-6821917039ab",
      "metadata": {
        "tags": [],
        "id": "0813aaa8-ea96-44ba-80a5-6821917039ab"
      },
      "outputs": [],
      "source": [
        "model_seq = Sequential()"
      ]
    },
    {
      "cell_type": "code",
      "execution_count": null,
      "id": "e2c7f562-1417-4511-8c8c-cb6563e93595",
      "metadata": {
        "tags": [],
        "id": "e2c7f562-1417-4511-8c8c-cb6563e93595"
      },
      "outputs": [],
      "source": [
        "model_seq.add( Dense( 64, input_dim = 10, activation = \"relu\" ) )\n",
        "model_seq.add( Dense( 64, activation = \"relu\" ) )\n",
        "model_seq.add( Dense( 1, activation = \"sigmoid\" ) )"
      ]
    },
    {
      "cell_type": "code",
      "execution_count": null,
      "id": "e1ebef07-bc88-4bad-818c-fffc61200a2a",
      "metadata": {
        "tags": [],
        "id": "e1ebef07-bc88-4bad-818c-fffc61200a2a",
        "outputId": "2a6aa685-5074-4c21-bd0e-cd08eadafaf7"
      },
      "outputs": [
        {
          "name": "stdout",
          "output_type": "stream",
          "text": [
            "Model: \"sequential_1\"\n",
            "_________________________________________________________________\n",
            " Layer (type)                Output Shape              Param #   \n",
            "=================================================================\n",
            " dense_10 (Dense)            (None, 64)                704       \n",
            "                                                                 \n",
            " dense_11 (Dense)            (None, 64)                4160      \n",
            "                                                                 \n",
            " dense_12 (Dense)            (None, 1)                 65        \n",
            "                                                                 \n",
            "=================================================================\n",
            "Total params: 4929 (19.25 KB)\n",
            "Trainable params: 4929 (19.25 KB)\n",
            "Non-trainable params: 0 (0.00 Byte)\n",
            "_________________________________________________________________\n"
          ]
        }
      ],
      "source": [
        "model_seq.summary()"
      ]
    },
    {
      "cell_type": "markdown",
      "id": "3cbbab08-e495-4eb9-958e-9feb1a2eb6f5",
      "metadata": {
        "id": "3cbbab08-e495-4eb9-958e-9feb1a2eb6f5"
      },
      "source": [
        "## Functional API로 선형 회귀 모델 생성 및 학습"
      ]
    },
    {
      "cell_type": "code",
      "execution_count": null,
      "id": "0a5a54e9-0af7-43d4-b3f9-584072ff7a45",
      "metadata": {
        "tags": [],
        "id": "0a5a54e9-0af7-43d4-b3f9-584072ff7a45"
      },
      "outputs": [],
      "source": [
        "from tensorflow.keras import optimizers"
      ]
    },
    {
      "cell_type": "code",
      "execution_count": null,
      "id": "64b8e2d7-e69b-4346-886c-182d9de67476",
      "metadata": {
        "tags": [],
        "id": "64b8e2d7-e69b-4346-886c-182d9de67476"
      },
      "outputs": [],
      "source": [
        "X = [ 1, 2, 3, 4, 5, 6, 7, 8, 9 ] # 입력 데이터\n",
        "y = [ 11, 22, 33, 44, 53, 66, 77, 87, 95 ] # 정답 데이터"
      ]
    },
    {
      "cell_type": "code",
      "execution_count": null,
      "id": "989a8379-cb16-4bdb-a642-945073f34bf4",
      "metadata": {
        "tags": [],
        "id": "989a8379-cb16-4bdb-a642-945073f34bf4"
      },
      "outputs": [],
      "source": [
        "inputs = Input( shape= ( 1, ) )\n",
        "hidden1 = Dense( 16, activation = \"relu\" )( inputs )\n",
        "hidden2 = Dense( 16, activation = \"relu\" )( hidden1 )\n",
        "output = Dense( 1, activation = \"linear\" )( hidden2 )\n",
        "\n",
        "model = Model( inputs = inputs, outputs = output )"
      ]
    },
    {
      "cell_type": "code",
      "execution_count": null,
      "id": "89b405fa-a186-41b7-a53f-604a79e64732",
      "metadata": {
        "tags": [],
        "id": "89b405fa-a186-41b7-a53f-604a79e64732",
        "outputId": "993cf3ff-8309-434a-8fdc-8fae58c449fe"
      },
      "outputs": [
        {
          "name": "stdout",
          "output_type": "stream",
          "text": [
            "Model: \"model_4\"\n",
            "_________________________________________________________________\n",
            " Layer (type)                Output Shape              Param #   \n",
            "=================================================================\n",
            " input_6 (InputLayer)        [(None, 1)]               0         \n",
            "                                                                 \n",
            " dense_22 (Dense)            (None, 16)                32        \n",
            "                                                                 \n",
            " dense_23 (Dense)            (None, 16)                272       \n",
            "                                                                 \n",
            " dense_24 (Dense)            (None, 1)                 17        \n",
            "                                                                 \n",
            "=================================================================\n",
            "Total params: 321 (1.25 KB)\n",
            "Trainable params: 321 (1.25 KB)\n",
            "Non-trainable params: 0 (0.00 Byte)\n",
            "_________________________________________________________________\n"
          ]
        }
      ],
      "source": [
        "model.summary()"
      ]
    },
    {
      "cell_type": "code",
      "execution_count": null,
      "id": "0e63f941-115d-4a09-89f5-8dc5a57c4b5f",
      "metadata": {
        "tags": [],
        "id": "0e63f941-115d-4a09-89f5-8dc5a57c4b5f",
        "outputId": "255aecd7-c2ea-4381-fe7a-795263b74f1b"
      },
      "outputs": [
        {
          "name": "stderr",
          "output_type": "stream",
          "text": [
            "WARNING:absl:`lr` is deprecated in Keras optimizer, please use `learning_rate` or use the legacy optimizer, e.g.,tf.keras.optimizers.legacy.SGD.\n"
          ]
        },
        {
          "name": "stdout",
          "output_type": "stream",
          "text": [
            "Epoch 1/20\n",
            "1/1 [==============================] - 1s 680ms/step - loss: 3601.4678 - mse: 3601.4678\n",
            "Epoch 2/20\n",
            "1/1 [==============================] - 0s 8ms/step - loss: 31740.9473 - mse: 31740.9473\n",
            "Epoch 3/20\n",
            "1/1 [==============================] - 0s 12ms/step - loss: 4503.0073 - mse: 4503.0073\n",
            "Epoch 4/20\n",
            "1/1 [==============================] - 0s 10ms/step - loss: 3800.8333 - mse: 3800.8333\n",
            "Epoch 5/20\n",
            "1/1 [==============================] - 0s 10ms/step - loss: 3680.4939 - mse: 3680.4939\n",
            "Epoch 6/20\n",
            "1/1 [==============================] - 0s 12ms/step - loss: 3564.9194 - mse: 3564.9194\n",
            "Epoch 7/20\n",
            "1/1 [==============================] - 0s 23ms/step - loss: 3453.9219 - mse: 3453.9219\n",
            "Epoch 8/20\n",
            "1/1 [==============================] - 0s 14ms/step - loss: 3347.3198 - mse: 3347.3198\n",
            "Epoch 9/20\n",
            "1/1 [==============================] - 0s 16ms/step - loss: 3244.9395 - mse: 3244.9395\n",
            "Epoch 10/20\n",
            "1/1 [==============================] - 0s 16ms/step - loss: 3146.6128 - mse: 3146.6128\n",
            "Epoch 11/20\n",
            "1/1 [==============================] - 0s 36ms/step - loss: 3052.1804 - mse: 3052.1804\n",
            "Epoch 12/20\n",
            "1/1 [==============================] - 0s 12ms/step - loss: 2961.4873 - mse: 2961.4873\n",
            "Epoch 13/20\n",
            "1/1 [==============================] - 0s 36ms/step - loss: 2874.3857 - mse: 2874.3857\n",
            "Epoch 14/20\n",
            "1/1 [==============================] - 0s 18ms/step - loss: 2790.7332 - mse: 2790.7332\n",
            "Epoch 15/20\n",
            "1/1 [==============================] - 0s 14ms/step - loss: 2710.3931 - mse: 2710.3931\n",
            "Epoch 16/20\n",
            "1/1 [==============================] - 0s 13ms/step - loss: 2633.2351 - mse: 2633.2351\n",
            "Epoch 17/20\n",
            "1/1 [==============================] - 0s 11ms/step - loss: 2559.1323 - mse: 2559.1323\n",
            "Epoch 18/20\n",
            "1/1 [==============================] - 0s 10ms/step - loss: 2487.9639 - mse: 2487.9639\n",
            "Epoch 19/20\n",
            "1/1 [==============================] - 0s 17ms/step - loss: 2419.6138 - mse: 2419.6138\n",
            "Epoch 20/20\n",
            "1/1 [==============================] - 0s 23ms/step - loss: 2353.9705 - mse: 2353.9705\n"
          ]
        },
        {
          "data": {
            "text/plain": [
              "<keras.src.callbacks.History at 0x19032e713d0>"
            ]
          },
          "execution_count": 34,
          "metadata": {},
          "output_type": "execute_result"
        }
      ],
      "source": [
        "sgd = optimizers.SGD( lr = 0.001 ) # optimizer\n",
        "\n",
        "model.compile( loss = \"mse\", optimizer = sgd, metrics = [ \"mse\" ] )\n",
        "model.fit( X, y, epochs = 20 )"
      ]
    },
    {
      "cell_type": "markdown",
      "id": "6342b041-9309-4f4c-a77e-3f6b2b437865",
      "metadata": {
        "id": "6342b041-9309-4f4c-a77e-3f6b2b437865"
      },
      "source": [
        "### 다중 입력을 받는 모델을 Functional API로 표현"
      ]
    },
    {
      "cell_type": "code",
      "execution_count": null,
      "id": "b3e6a725-4228-4792-a941-29460a11d3c5",
      "metadata": {
        "tags": [],
        "id": "b3e6a725-4228-4792-a941-29460a11d3c5"
      },
      "outputs": [],
      "source": [
        "from tensorflow.keras.layers import concatenate # 연결"
      ]
    },
    {
      "cell_type": "code",
      "execution_count": null,
      "id": "926f8708-9cec-41ed-8e11-6d451684ce8f",
      "metadata": {
        "tags": [],
        "id": "926f8708-9cec-41ed-8e11-6d451684ce8f"
      },
      "outputs": [],
      "source": [
        "# 두 개의 입력층 정의\n",
        "inputA = Input( shape = (64, ) )\n",
        "inputB = Input( shape = ( 128, ) )"
      ]
    },
    {
      "cell_type": "code",
      "execution_count": null,
      "id": "d495616f-a0f8-4bcc-853f-f2811b383f42",
      "metadata": {
        "tags": [],
        "id": "d495616f-a0f8-4bcc-853f-f2811b383f42"
      },
      "outputs": [],
      "source": [
        "# 첫번째 입력층에 대한 모델 구성\n",
        "x = Dense( 16, activation = \"relu\" )( inputA )\n",
        "x = Dense( 8, activation = \"relu\" )( x )\n",
        "x = Model( inputs = inputA, outputs = x )"
      ]
    },
    {
      "cell_type": "code",
      "execution_count": null,
      "id": "eb7bd13a-ed38-4960-baa4-4c6957e623a9",
      "metadata": {
        "tags": [],
        "id": "eb7bd13a-ed38-4960-baa4-4c6957e623a9",
        "outputId": "e4646452-155c-4b92-fceb-75cc48c5ea03"
      },
      "outputs": [
        {
          "name": "stdout",
          "output_type": "stream",
          "text": [
            "Model: \"model_5\"\n",
            "_________________________________________________________________\n",
            " Layer (type)                Output Shape              Param #   \n",
            "=================================================================\n",
            " input_9 (InputLayer)        [(None, 64)]              0         \n",
            "                                                                 \n",
            " dense_27 (Dense)            (None, 16)                1040      \n",
            "                                                                 \n",
            " dense_28 (Dense)            (None, 8)                 136       \n",
            "                                                                 \n",
            "=================================================================\n",
            "Total params: 1176 (4.59 KB)\n",
            "Trainable params: 1176 (4.59 KB)\n",
            "Non-trainable params: 0 (0.00 Byte)\n",
            "_________________________________________________________________\n"
          ]
        }
      ],
      "source": [
        "x.summary()"
      ]
    },
    {
      "cell_type": "code",
      "execution_count": null,
      "id": "4393da71-ff83-47a9-8393-8c3dea02a8d8",
      "metadata": {
        "tags": [],
        "id": "4393da71-ff83-47a9-8393-8c3dea02a8d8"
      },
      "outputs": [],
      "source": [
        "# 두번째 입력층에 대한 모델 구성\n",
        "y = Dense( 64, activation = \"relu\" )( inputB )\n",
        "y = Dense( 32, activation = \"relu\" )( y )\n",
        "y = Dense( 8, activation = \"relu\" )( y )\n",
        "y = Model( inputs = inputB, outputs = y )"
      ]
    },
    {
      "cell_type": "code",
      "execution_count": null,
      "id": "508a18d7-0ef8-4133-b81c-df75d15a9628",
      "metadata": {
        "tags": [],
        "id": "508a18d7-0ef8-4133-b81c-df75d15a9628",
        "outputId": "a23616b2-1b3c-4168-a8ff-2feee81b4bca"
      },
      "outputs": [
        {
          "name": "stdout",
          "output_type": "stream",
          "text": [
            "Model: \"model_6\"\n",
            "_________________________________________________________________\n",
            " Layer (type)                Output Shape              Param #   \n",
            "=================================================================\n",
            " input_10 (InputLayer)       [(None, 128)]             0         \n",
            "                                                                 \n",
            " dense_29 (Dense)            (None, 64)                8256      \n",
            "                                                                 \n",
            " dense_30 (Dense)            (None, 32)                2080      \n",
            "                                                                 \n",
            " dense_31 (Dense)            (None, 8)                 264       \n",
            "                                                                 \n",
            "=================================================================\n",
            "Total params: 10600 (41.41 KB)\n",
            "Trainable params: 10600 (41.41 KB)\n",
            "Non-trainable params: 0 (0.00 Byte)\n",
            "_________________________________________________________________\n"
          ]
        }
      ],
      "source": [
        "y.summary()"
      ]
    },
    {
      "cell_type": "code",
      "execution_count": null,
      "id": "3ff64f3d-5e30-464c-91c9-9fb68e5c7598",
      "metadata": {
        "tags": [],
        "id": "3ff64f3d-5e30-464c-91c9-9fb68e5c7598"
      },
      "outputs": [],
      "source": [
        "# 두 개의 모델의 출력 연결\n",
        "result = concatenate( [ x.output, y.output ] )"
      ]
    },
    {
      "cell_type": "code",
      "execution_count": null,
      "id": "1255e048-8c66-4a44-807a-bd8ffd4f7b68",
      "metadata": {
        "tags": [],
        "id": "1255e048-8c66-4a44-807a-bd8ffd4f7b68"
      },
      "outputs": [],
      "source": [
        "# 두 개의 모델을 합친 후 은닉층과 출력층\n",
        "z = Dense( 2, activation = \"relu\" )( result )\n",
        "z = Dense( 1, activation = \"linear\" )( z )"
      ]
    },
    {
      "cell_type": "code",
      "execution_count": null,
      "id": "86cc9fe5-13bd-4fad-a8be-034b8c2f17b0",
      "metadata": {
        "tags": [],
        "id": "86cc9fe5-13bd-4fad-a8be-034b8c2f17b0"
      },
      "outputs": [],
      "source": [
        "model = Model( inputs = [ x.input, y.input ], outputs = z )"
      ]
    },
    {
      "cell_type": "code",
      "execution_count": null,
      "id": "b0bb6483-6596-4aa0-8152-539b6a9378e7",
      "metadata": {
        "tags": [],
        "id": "b0bb6483-6596-4aa0-8152-539b6a9378e7",
        "outputId": "b80ee831-d4e9-4579-90d9-7c21d9020c4f"
      },
      "outputs": [
        {
          "name": "stdout",
          "output_type": "stream",
          "text": [
            "Model: \"model_7\"\n",
            "__________________________________________________________________________________________________\n",
            " Layer (type)                Output Shape                 Param #   Connected to                  \n",
            "==================================================================================================\n",
            " input_10 (InputLayer)       [(None, 128)]                0         []                            \n",
            "                                                                                                  \n",
            " input_9 (InputLayer)        [(None, 64)]                 0         []                            \n",
            "                                                                                                  \n",
            " dense_29 (Dense)            (None, 64)                   8256      ['input_10[0][0]']            \n",
            "                                                                                                  \n",
            " dense_27 (Dense)            (None, 16)                   1040      ['input_9[0][0]']             \n",
            "                                                                                                  \n",
            " dense_30 (Dense)            (None, 32)                   2080      ['dense_29[0][0]']            \n",
            "                                                                                                  \n",
            " dense_28 (Dense)            (None, 8)                    136       ['dense_27[0][0]']            \n",
            "                                                                                                  \n",
            " dense_31 (Dense)            (None, 8)                    264       ['dense_30[0][0]']            \n",
            "                                                                                                  \n",
            " concatenate (Concatenate)   (None, 16)                   0         ['dense_28[0][0]',            \n",
            "                                                                     'dense_31[0][0]']            \n",
            "                                                                                                  \n",
            " dense_32 (Dense)            (None, 2)                    34        ['concatenate[0][0]']         \n",
            "                                                                                                  \n",
            " dense_33 (Dense)            (None, 1)                    3         ['dense_32[0][0]']            \n",
            "                                                                                                  \n",
            "==================================================================================================\n",
            "Total params: 11813 (46.14 KB)\n",
            "Trainable params: 11813 (46.14 KB)\n",
            "Non-trainable params: 0 (0.00 Byte)\n",
            "__________________________________________________________________________________________________\n"
          ]
        }
      ],
      "source": [
        "model.summary()"
      ]
    },
    {
      "cell_type": "markdown",
      "id": "eeec9554-d7ef-4c46-9d12-ea407532e18b",
      "metadata": {
        "id": "eeec9554-d7ef-4c46-9d12-ea407532e18b"
      },
      "source": [
        "# 연비 예측 모델( 단순 선형 회귀 )"
      ]
    },
    {
      "cell_type": "code",
      "execution_count": null,
      "id": "8eff6dfa-2d28-4816-82d8-44c73f0de755",
      "metadata": {
        "tags": [],
        "id": "8eff6dfa-2d28-4816-82d8-44c73f0de755"
      },
      "outputs": [],
      "source": [
        "import numpy as np\n",
        "import pandas as pd\n",
        "import matplotlib.pyplot as plt\n",
        "import seaborn as sns\n",
        "\n",
        "pd.set_option( 'display.max_columns', 20 )\n",
        "pd.set_option( 'display.max_colwidth', 20 )\n",
        "pd.set_option( 'display.unicode.east_asian_width', True )\n",
        "\n",
        "import warnings\n",
        "warnings.filterwarnings( 'ignore' )\n",
        "\n",
        "from tensorflow import keras"
      ]
    },
    {
      "cell_type": "markdown",
      "id": "5c3bc37b-4e93-47fd-9d76-cd6b972919c3",
      "metadata": {
        "id": "5c3bc37b-4e93-47fd-9d76-cd6b972919c3"
      },
      "source": [
        "### 데이터 준비"
      ]
    },
    {
      "cell_type": "code",
      "execution_count": null,
      "id": "4a1be979-13ba-4fd6-8243-4c4da08529e2",
      "metadata": {
        "tags": [],
        "id": "4a1be979-13ba-4fd6-8243-4c4da08529e2",
        "outputId": "cbf39c8b-41d2-417f-b7d6-86aadb37e57d"
      },
      "outputs": [
        {
          "data": {
            "text/html": [
              "<div>\n",
              "<style scoped>\n",
              "    .dataframe tbody tr th:only-of-type {\n",
              "        vertical-align: middle;\n",
              "    }\n",
              "\n",
              "    .dataframe tbody tr th {\n",
              "        vertical-align: top;\n",
              "    }\n",
              "\n",
              "    .dataframe thead th {\n",
              "        text-align: right;\n",
              "    }\n",
              "</style>\n",
              "<table border=\"1\" class=\"dataframe\">\n",
              "  <thead>\n",
              "    <tr style=\"text-align: right;\">\n",
              "      <th></th>\n",
              "      <th>0</th>\n",
              "      <th>1</th>\n",
              "      <th>2</th>\n",
              "      <th>3</th>\n",
              "      <th>4</th>\n",
              "      <th>5</th>\n",
              "      <th>6</th>\n",
              "      <th>7</th>\n",
              "      <th>8</th>\n",
              "    </tr>\n",
              "  </thead>\n",
              "  <tbody>\n",
              "    <tr>\n",
              "      <th>0</th>\n",
              "      <td>18.0</td>\n",
              "      <td>8</td>\n",
              "      <td>307.0</td>\n",
              "      <td>130.0</td>\n",
              "      <td>3504.0</td>\n",
              "      <td>12.0</td>\n",
              "      <td>70</td>\n",
              "      <td>1</td>\n",
              "      <td>chevrolet chevel...</td>\n",
              "    </tr>\n",
              "    <tr>\n",
              "      <th>1</th>\n",
              "      <td>15.0</td>\n",
              "      <td>8</td>\n",
              "      <td>350.0</td>\n",
              "      <td>165.0</td>\n",
              "      <td>3693.0</td>\n",
              "      <td>11.5</td>\n",
              "      <td>70</td>\n",
              "      <td>1</td>\n",
              "      <td>buick skylark 320</td>\n",
              "    </tr>\n",
              "    <tr>\n",
              "      <th>2</th>\n",
              "      <td>18.0</td>\n",
              "      <td>8</td>\n",
              "      <td>318.0</td>\n",
              "      <td>150.0</td>\n",
              "      <td>3436.0</td>\n",
              "      <td>11.0</td>\n",
              "      <td>70</td>\n",
              "      <td>1</td>\n",
              "      <td>plymouth satellite</td>\n",
              "    </tr>\n",
              "    <tr>\n",
              "      <th>3</th>\n",
              "      <td>16.0</td>\n",
              "      <td>8</td>\n",
              "      <td>304.0</td>\n",
              "      <td>150.0</td>\n",
              "      <td>3433.0</td>\n",
              "      <td>12.0</td>\n",
              "      <td>70</td>\n",
              "      <td>1</td>\n",
              "      <td>amc rebel sst</td>\n",
              "    </tr>\n",
              "    <tr>\n",
              "      <th>4</th>\n",
              "      <td>17.0</td>\n",
              "      <td>8</td>\n",
              "      <td>302.0</td>\n",
              "      <td>140.0</td>\n",
              "      <td>3449.0</td>\n",
              "      <td>10.5</td>\n",
              "      <td>70</td>\n",
              "      <td>1</td>\n",
              "      <td>ford torino</td>\n",
              "    </tr>\n",
              "  </tbody>\n",
              "</table>\n",
              "</div>"
            ],
            "text/plain": [
              "      0  1      2      3       4     5   6  7                    8\n",
              "0  18.0  8  307.0  130.0  3504.0  12.0  70  1  chevrolet chevel...\n",
              "1  15.0  8  350.0  165.0  3693.0  11.5  70  1    buick skylark 320\n",
              "2  18.0  8  318.0  150.0  3436.0  11.0  70  1   plymouth satellite\n",
              "3  16.0  8  304.0  150.0  3433.0  12.0  70  1        amc rebel sst\n",
              "4  17.0  8  302.0  140.0  3449.0  10.5  70  1          ford torino"
            ]
          },
          "execution_count": 57,
          "metadata": {},
          "output_type": "execute_result"
        }
      ],
      "source": [
        "column_names = [ 'MPG', 'Cylinders', 'Displacement', 'Horsepower', 'Weight',\n",
        "                 'Acceleration', 'Model Year', 'Origin', 'Model Name' ]\n",
        "\n",
        "auto = pd.read_csv( './auto-mpg.csv', header = None )\n",
        "auto.head()"
      ]
    },
    {
      "cell_type": "code",
      "execution_count": null,
      "id": "c9071e42-336f-46fd-b91e-104e4092a73c",
      "metadata": {
        "tags": [],
        "id": "c9071e42-336f-46fd-b91e-104e4092a73c",
        "outputId": "43c117de-a1c7-4048-bd5b-f6d14c230f7e"
      },
      "outputs": [
        {
          "data": {
            "text/html": [
              "<div>\n",
              "<style scoped>\n",
              "    .dataframe tbody tr th:only-of-type {\n",
              "        vertical-align: middle;\n",
              "    }\n",
              "\n",
              "    .dataframe tbody tr th {\n",
              "        vertical-align: top;\n",
              "    }\n",
              "\n",
              "    .dataframe thead th {\n",
              "        text-align: right;\n",
              "    }\n",
              "</style>\n",
              "<table border=\"1\" class=\"dataframe\">\n",
              "  <thead>\n",
              "    <tr style=\"text-align: right;\">\n",
              "      <th></th>\n",
              "      <th>MPG</th>\n",
              "      <th>Cylinders</th>\n",
              "      <th>Displacement</th>\n",
              "      <th>Horsepower</th>\n",
              "      <th>Weight</th>\n",
              "      <th>Acceleration</th>\n",
              "      <th>Model Year</th>\n",
              "      <th>Origin</th>\n",
              "      <th>Model Name</th>\n",
              "    </tr>\n",
              "  </thead>\n",
              "  <tbody>\n",
              "    <tr>\n",
              "      <th>0</th>\n",
              "      <td>18.0</td>\n",
              "      <td>8</td>\n",
              "      <td>307.0</td>\n",
              "      <td>130.0</td>\n",
              "      <td>3504.0</td>\n",
              "      <td>12.0</td>\n",
              "      <td>70</td>\n",
              "      <td>1</td>\n",
              "      <td>chevrolet chevel...</td>\n",
              "    </tr>\n",
              "    <tr>\n",
              "      <th>1</th>\n",
              "      <td>15.0</td>\n",
              "      <td>8</td>\n",
              "      <td>350.0</td>\n",
              "      <td>165.0</td>\n",
              "      <td>3693.0</td>\n",
              "      <td>11.5</td>\n",
              "      <td>70</td>\n",
              "      <td>1</td>\n",
              "      <td>buick skylark 320</td>\n",
              "    </tr>\n",
              "    <tr>\n",
              "      <th>2</th>\n",
              "      <td>18.0</td>\n",
              "      <td>8</td>\n",
              "      <td>318.0</td>\n",
              "      <td>150.0</td>\n",
              "      <td>3436.0</td>\n",
              "      <td>11.0</td>\n",
              "      <td>70</td>\n",
              "      <td>1</td>\n",
              "      <td>plymouth satellite</td>\n",
              "    </tr>\n",
              "    <tr>\n",
              "      <th>3</th>\n",
              "      <td>16.0</td>\n",
              "      <td>8</td>\n",
              "      <td>304.0</td>\n",
              "      <td>150.0</td>\n",
              "      <td>3433.0</td>\n",
              "      <td>12.0</td>\n",
              "      <td>70</td>\n",
              "      <td>1</td>\n",
              "      <td>amc rebel sst</td>\n",
              "    </tr>\n",
              "    <tr>\n",
              "      <th>4</th>\n",
              "      <td>17.0</td>\n",
              "      <td>8</td>\n",
              "      <td>302.0</td>\n",
              "      <td>140.0</td>\n",
              "      <td>3449.0</td>\n",
              "      <td>10.5</td>\n",
              "      <td>70</td>\n",
              "      <td>1</td>\n",
              "      <td>ford torino</td>\n",
              "    </tr>\n",
              "  </tbody>\n",
              "</table>\n",
              "</div>"
            ],
            "text/plain": [
              "    MPG  Cylinders  Displacement Horsepower  Weight  Acceleration  Model Year  \\\n",
              "0  18.0          8         307.0      130.0  3504.0          12.0          70   \n",
              "1  15.0          8         350.0      165.0  3693.0          11.5          70   \n",
              "2  18.0          8         318.0      150.0  3436.0          11.0          70   \n",
              "3  16.0          8         304.0      150.0  3433.0          12.0          70   \n",
              "4  17.0          8         302.0      140.0  3449.0          10.5          70   \n",
              "\n",
              "   Origin           Model Name  \n",
              "0       1  chevrolet chevel...  \n",
              "1       1    buick skylark 320  \n",
              "2       1   plymouth satellite  \n",
              "3       1        amc rebel sst  \n",
              "4       1          ford torino  "
            ]
          },
          "execution_count": 58,
          "metadata": {},
          "output_type": "execute_result"
        }
      ],
      "source": [
        "auto.columns = column_names\n",
        "auto.head()"
      ]
    },
    {
      "cell_type": "code",
      "execution_count": null,
      "id": "b841a7bc-d500-450e-a0bf-314cec6b2c08",
      "metadata": {
        "tags": [],
        "id": "b841a7bc-d500-450e-a0bf-314cec6b2c08",
        "outputId": "2f48f1b9-0681-4df4-8795-d3c67e9c554d"
      },
      "outputs": [
        {
          "data": {
            "text/html": [
              "<div>\n",
              "<style scoped>\n",
              "    .dataframe tbody tr th:only-of-type {\n",
              "        vertical-align: middle;\n",
              "    }\n",
              "\n",
              "    .dataframe tbody tr th {\n",
              "        vertical-align: top;\n",
              "    }\n",
              "\n",
              "    .dataframe thead th {\n",
              "        text-align: right;\n",
              "    }\n",
              "</style>\n",
              "<table border=\"1\" class=\"dataframe\">\n",
              "  <thead>\n",
              "    <tr style=\"text-align: right;\">\n",
              "      <th></th>\n",
              "      <th>MPG</th>\n",
              "      <th>Cylinders</th>\n",
              "      <th>Displacement</th>\n",
              "      <th>Horsepower</th>\n",
              "      <th>Weight</th>\n",
              "      <th>Acceleration</th>\n",
              "      <th>Model Year</th>\n",
              "      <th>Origin</th>\n",
              "      <th>Model Name</th>\n",
              "    </tr>\n",
              "  </thead>\n",
              "  <tbody>\n",
              "    <tr>\n",
              "      <th>0</th>\n",
              "      <td>18.0</td>\n",
              "      <td>8</td>\n",
              "      <td>307.0</td>\n",
              "      <td>130.0</td>\n",
              "      <td>3504.0</td>\n",
              "      <td>12.0</td>\n",
              "      <td>70</td>\n",
              "      <td>1</td>\n",
              "      <td>chevrolet chevel...</td>\n",
              "    </tr>\n",
              "    <tr>\n",
              "      <th>1</th>\n",
              "      <td>15.0</td>\n",
              "      <td>8</td>\n",
              "      <td>350.0</td>\n",
              "      <td>165.0</td>\n",
              "      <td>3693.0</td>\n",
              "      <td>11.5</td>\n",
              "      <td>70</td>\n",
              "      <td>1</td>\n",
              "      <td>buick skylark 320</td>\n",
              "    </tr>\n",
              "    <tr>\n",
              "      <th>2</th>\n",
              "      <td>18.0</td>\n",
              "      <td>8</td>\n",
              "      <td>318.0</td>\n",
              "      <td>150.0</td>\n",
              "      <td>3436.0</td>\n",
              "      <td>11.0</td>\n",
              "      <td>70</td>\n",
              "      <td>1</td>\n",
              "      <td>plymouth satellite</td>\n",
              "    </tr>\n",
              "    <tr>\n",
              "      <th>3</th>\n",
              "      <td>16.0</td>\n",
              "      <td>8</td>\n",
              "      <td>304.0</td>\n",
              "      <td>150.0</td>\n",
              "      <td>3433.0</td>\n",
              "      <td>12.0</td>\n",
              "      <td>70</td>\n",
              "      <td>1</td>\n",
              "      <td>amc rebel sst</td>\n",
              "    </tr>\n",
              "    <tr>\n",
              "      <th>4</th>\n",
              "      <td>17.0</td>\n",
              "      <td>8</td>\n",
              "      <td>302.0</td>\n",
              "      <td>140.0</td>\n",
              "      <td>3449.0</td>\n",
              "      <td>10.5</td>\n",
              "      <td>70</td>\n",
              "      <td>1</td>\n",
              "      <td>ford torino</td>\n",
              "    </tr>\n",
              "  </tbody>\n",
              "</table>\n",
              "</div>"
            ],
            "text/plain": [
              "    MPG  Cylinders  Displacement Horsepower  Weight  Acceleration  Model Year  \\\n",
              "0  18.0          8         307.0      130.0  3504.0          12.0          70   \n",
              "1  15.0          8         350.0      165.0  3693.0          11.5          70   \n",
              "2  18.0          8         318.0      150.0  3436.0          11.0          70   \n",
              "3  16.0          8         304.0      150.0  3433.0          12.0          70   \n",
              "4  17.0          8         302.0      140.0  3449.0          10.5          70   \n",
              "\n",
              "   Origin           Model Name  \n",
              "0       1  chevrolet chevel...  \n",
              "1       1    buick skylark 320  \n",
              "2       1   plymouth satellite  \n",
              "3       1        amc rebel sst  \n",
              "4       1          ford torino  "
            ]
          },
          "execution_count": 59,
          "metadata": {},
          "output_type": "execute_result"
        }
      ],
      "source": [
        "df = auto.copy()\n",
        "df.head()"
      ]
    },
    {
      "cell_type": "markdown",
      "id": "9742477b-bba7-4c9a-b914-dbb3a1e6c368",
      "metadata": {
        "id": "9742477b-bba7-4c9a-b914-dbb3a1e6c368"
      },
      "source": [
        "### 데이터 전처리"
      ]
    },
    {
      "cell_type": "code",
      "execution_count": null,
      "id": "b0645b57-4f1a-4e85-8b63-16325fb7dcc8",
      "metadata": {
        "tags": [],
        "id": "b0645b57-4f1a-4e85-8b63-16325fb7dcc8",
        "outputId": "f94d0fd5-4c94-490a-ea72-5529278b0cac"
      },
      "outputs": [
        {
          "data": {
            "text/plain": [
              "MPG             0\n",
              "Cylinders       0\n",
              "Displacement    0\n",
              "Horsepower      0\n",
              "Weight          0\n",
              "Acceleration    0\n",
              "Model Year      0\n",
              "Origin          0\n",
              "Model Name      0\n",
              "dtype: int64"
            ]
          },
          "execution_count": 60,
          "metadata": {},
          "output_type": "execute_result"
        }
      ],
      "source": [
        "df.isna().sum() # 결측치 확인"
      ]
    },
    {
      "cell_type": "code",
      "execution_count": null,
      "id": "423a4cd9-fc5f-473e-9ccc-7a97a11320b2",
      "metadata": {
        "tags": [],
        "id": "423a4cd9-fc5f-473e-9ccc-7a97a11320b2",
        "outputId": "ba7f7c64-897d-4bb9-8afa-ccf1b2df70f1"
      },
      "outputs": [
        {
          "data": {
            "text/html": [
              "<div>\n",
              "<style scoped>\n",
              "    .dataframe tbody tr th:only-of-type {\n",
              "        vertical-align: middle;\n",
              "    }\n",
              "\n",
              "    .dataframe tbody tr th {\n",
              "        vertical-align: top;\n",
              "    }\n",
              "\n",
              "    .dataframe thead th {\n",
              "        text-align: right;\n",
              "    }\n",
              "</style>\n",
              "<table border=\"1\" class=\"dataframe\">\n",
              "  <thead>\n",
              "    <tr style=\"text-align: right;\">\n",
              "      <th></th>\n",
              "      <th>MPG</th>\n",
              "      <th>Cylinders</th>\n",
              "      <th>Displacement</th>\n",
              "      <th>Horsepower</th>\n",
              "      <th>Weight</th>\n",
              "      <th>Acceleration</th>\n",
              "      <th>Model Year</th>\n",
              "      <th>Origin</th>\n",
              "    </tr>\n",
              "  </thead>\n",
              "  <tbody>\n",
              "    <tr>\n",
              "      <th>0</th>\n",
              "      <td>18.0</td>\n",
              "      <td>8</td>\n",
              "      <td>307.0</td>\n",
              "      <td>130.0</td>\n",
              "      <td>3504.0</td>\n",
              "      <td>12.0</td>\n",
              "      <td>70</td>\n",
              "      <td>1</td>\n",
              "    </tr>\n",
              "    <tr>\n",
              "      <th>1</th>\n",
              "      <td>15.0</td>\n",
              "      <td>8</td>\n",
              "      <td>350.0</td>\n",
              "      <td>165.0</td>\n",
              "      <td>3693.0</td>\n",
              "      <td>11.5</td>\n",
              "      <td>70</td>\n",
              "      <td>1</td>\n",
              "    </tr>\n",
              "    <tr>\n",
              "      <th>2</th>\n",
              "      <td>18.0</td>\n",
              "      <td>8</td>\n",
              "      <td>318.0</td>\n",
              "      <td>150.0</td>\n",
              "      <td>3436.0</td>\n",
              "      <td>11.0</td>\n",
              "      <td>70</td>\n",
              "      <td>1</td>\n",
              "    </tr>\n",
              "    <tr>\n",
              "      <th>3</th>\n",
              "      <td>16.0</td>\n",
              "      <td>8</td>\n",
              "      <td>304.0</td>\n",
              "      <td>150.0</td>\n",
              "      <td>3433.0</td>\n",
              "      <td>12.0</td>\n",
              "      <td>70</td>\n",
              "      <td>1</td>\n",
              "    </tr>\n",
              "    <tr>\n",
              "      <th>4</th>\n",
              "      <td>17.0</td>\n",
              "      <td>8</td>\n",
              "      <td>302.0</td>\n",
              "      <td>140.0</td>\n",
              "      <td>3449.0</td>\n",
              "      <td>10.5</td>\n",
              "      <td>70</td>\n",
              "      <td>1</td>\n",
              "    </tr>\n",
              "  </tbody>\n",
              "</table>\n",
              "</div>"
            ],
            "text/plain": [
              "    MPG  Cylinders  Displacement Horsepower  Weight  Acceleration  Model Year  \\\n",
              "0  18.0          8         307.0      130.0  3504.0          12.0          70   \n",
              "1  15.0          8         350.0      165.0  3693.0          11.5          70   \n",
              "2  18.0          8         318.0      150.0  3436.0          11.0          70   \n",
              "3  16.0          8         304.0      150.0  3433.0          12.0          70   \n",
              "4  17.0          8         302.0      140.0  3449.0          10.5          70   \n",
              "\n",
              "   Origin  \n",
              "0       1  \n",
              "1       1  \n",
              "2       1  \n",
              "3       1  \n",
              "4       1  "
            ]
          },
          "execution_count": 61,
          "metadata": {},
          "output_type": "execute_result"
        }
      ],
      "source": [
        "# Model Name 변수 삭제\n",
        "df.drop( [ 'Model Name' ], axis = 1, inplace = True )\n",
        "df.head()"
      ]
    },
    {
      "cell_type": "code",
      "execution_count": null,
      "id": "972b8934-b577-4e7a-bb25-0ca945848a40",
      "metadata": {
        "tags": [],
        "id": "972b8934-b577-4e7a-bb25-0ca945848a40",
        "outputId": "0a92a4e4-77b6-4acb-983d-514232235f86"
      },
      "outputs": [
        {
          "data": {
            "text/html": [
              "<div>\n",
              "<style scoped>\n",
              "    .dataframe tbody tr th:only-of-type {\n",
              "        vertical-align: middle;\n",
              "    }\n",
              "\n",
              "    .dataframe tbody tr th {\n",
              "        vertical-align: top;\n",
              "    }\n",
              "\n",
              "    .dataframe thead th {\n",
              "        text-align: right;\n",
              "    }\n",
              "</style>\n",
              "<table border=\"1\" class=\"dataframe\">\n",
              "  <thead>\n",
              "    <tr style=\"text-align: right;\">\n",
              "      <th></th>\n",
              "      <th>MPG</th>\n",
              "      <th>Cylinders</th>\n",
              "      <th>Displacement</th>\n",
              "      <th>Horsepower</th>\n",
              "      <th>Weight</th>\n",
              "      <th>Acceleration</th>\n",
              "      <th>Model Year</th>\n",
              "      <th>USA</th>\n",
              "      <th>EU</th>\n",
              "      <th>JPN</th>\n",
              "    </tr>\n",
              "  </thead>\n",
              "  <tbody>\n",
              "    <tr>\n",
              "      <th>0</th>\n",
              "      <td>18.0</td>\n",
              "      <td>8</td>\n",
              "      <td>307.0</td>\n",
              "      <td>130.0</td>\n",
              "      <td>3504.0</td>\n",
              "      <td>12.0</td>\n",
              "      <td>70</td>\n",
              "      <td>1.0</td>\n",
              "      <td>0.0</td>\n",
              "      <td>0.0</td>\n",
              "    </tr>\n",
              "    <tr>\n",
              "      <th>1</th>\n",
              "      <td>15.0</td>\n",
              "      <td>8</td>\n",
              "      <td>350.0</td>\n",
              "      <td>165.0</td>\n",
              "      <td>3693.0</td>\n",
              "      <td>11.5</td>\n",
              "      <td>70</td>\n",
              "      <td>1.0</td>\n",
              "      <td>0.0</td>\n",
              "      <td>0.0</td>\n",
              "    </tr>\n",
              "    <tr>\n",
              "      <th>2</th>\n",
              "      <td>18.0</td>\n",
              "      <td>8</td>\n",
              "      <td>318.0</td>\n",
              "      <td>150.0</td>\n",
              "      <td>3436.0</td>\n",
              "      <td>11.0</td>\n",
              "      <td>70</td>\n",
              "      <td>1.0</td>\n",
              "      <td>0.0</td>\n",
              "      <td>0.0</td>\n",
              "    </tr>\n",
              "    <tr>\n",
              "      <th>3</th>\n",
              "      <td>16.0</td>\n",
              "      <td>8</td>\n",
              "      <td>304.0</td>\n",
              "      <td>150.0</td>\n",
              "      <td>3433.0</td>\n",
              "      <td>12.0</td>\n",
              "      <td>70</td>\n",
              "      <td>1.0</td>\n",
              "      <td>0.0</td>\n",
              "      <td>0.0</td>\n",
              "    </tr>\n",
              "    <tr>\n",
              "      <th>4</th>\n",
              "      <td>17.0</td>\n",
              "      <td>8</td>\n",
              "      <td>302.0</td>\n",
              "      <td>140.0</td>\n",
              "      <td>3449.0</td>\n",
              "      <td>10.5</td>\n",
              "      <td>70</td>\n",
              "      <td>1.0</td>\n",
              "      <td>0.0</td>\n",
              "      <td>0.0</td>\n",
              "    </tr>\n",
              "  </tbody>\n",
              "</table>\n",
              "</div>"
            ],
            "text/plain": [
              "    MPG  Cylinders  Displacement Horsepower  Weight  Acceleration  Model Year  \\\n",
              "0  18.0          8         307.0      130.0  3504.0          12.0          70   \n",
              "1  15.0          8         350.0      165.0  3693.0          11.5          70   \n",
              "2  18.0          8         318.0      150.0  3436.0          11.0          70   \n",
              "3  16.0          8         304.0      150.0  3433.0          12.0          70   \n",
              "4  17.0          8         302.0      140.0  3449.0          10.5          70   \n",
              "\n",
              "   USA   EU  JPN  \n",
              "0  1.0  0.0  0.0  \n",
              "1  1.0  0.0  0.0  \n",
              "2  1.0  0.0  0.0  \n",
              "3  1.0  0.0  0.0  \n",
              "4  1.0  0.0  0.0  "
            ]
          },
          "execution_count": 62,
          "metadata": {},
          "output_type": "execute_result"
        }
      ],
      "source": [
        "# origin 변수 내용을 개별 변수로 추가\n",
        "origin = df.pop( 'Origin' )\n",
        "\n",
        "df[ 'USA' ] = ( origin == 1 ) * 1.0\n",
        "df[ 'EU' ] = ( origin == 2 ) * 1.0\n",
        "df[ 'JPN' ] = ( origin == 3 ) * 1.0\n",
        "\n",
        "df.head()"
      ]
    },
    {
      "cell_type": "code",
      "execution_count": null,
      "id": "61091b89-d496-426b-a06b-a6f8181acf62",
      "metadata": {
        "tags": [],
        "id": "61091b89-d496-426b-a06b-a6f8181acf62",
        "outputId": "7601a748-fa00-4e8d-c262-0f19324fa245"
      },
      "outputs": [
        {
          "name": "stdout",
          "output_type": "stream",
          "text": [
            "<class 'pandas.core.frame.DataFrame'>\n",
            "RangeIndex: 398 entries, 0 to 397\n",
            "Data columns (total 10 columns):\n",
            " #   Column        Non-Null Count  Dtype  \n",
            "---  ------        --------------  -----  \n",
            " 0   MPG           398 non-null    float64\n",
            " 1   Cylinders     398 non-null    int64  \n",
            " 2   Displacement  398 non-null    float64\n",
            " 3   Horsepower    398 non-null    object \n",
            " 4   Weight        398 non-null    float64\n",
            " 5   Acceleration  398 non-null    float64\n",
            " 6   Model Year    398 non-null    int64  \n",
            " 7   USA           398 non-null    float64\n",
            " 8   EU            398 non-null    float64\n",
            " 9   JPN           398 non-null    float64\n",
            "dtypes: float64(7), int64(2), object(1)\n",
            "memory usage: 31.2+ KB\n"
          ]
        }
      ],
      "source": [
        "df.info()"
      ]
    },
    {
      "cell_type": "code",
      "execution_count": null,
      "id": "4a52c14b-c433-46bf-9ea1-dca9fd487f00",
      "metadata": {
        "tags": [],
        "id": "4a52c14b-c433-46bf-9ea1-dca9fd487f00",
        "outputId": "d51f0a0b-fdd2-404d-bf98-816577362ae3"
      },
      "outputs": [
        {
          "data": {
            "text/plain": [
              "array(['130.0', '165.0', '150.0', '140.0', '198.0', '220.0', '215.0',\n",
              "       '225.0', '190.0', '170.0', '160.0', '95.00', '97.00', '85.00',\n",
              "       '88.00', '46.00', '87.00', '90.00', '113.0', '200.0', '210.0',\n",
              "       '193.0', '?', '100.0', '105.0', '175.0', '153.0', '180.0', '110.0',\n",
              "       '72.00', '86.00', '70.00', '76.00', '65.00', '69.00', '60.00',\n",
              "       '80.00', '54.00', '208.0', '155.0', '112.0', '92.00', '145.0',\n",
              "       '137.0', '158.0', '167.0', '94.00', '107.0', '230.0', '49.00',\n",
              "       '75.00', '91.00', '122.0', '67.00', '83.00', '78.00', '52.00',\n",
              "       '61.00', '93.00', '148.0', '129.0', '96.00', '71.00', '98.00',\n",
              "       '115.0', '53.00', '81.00', '79.00', '120.0', '152.0', '102.0',\n",
              "       '108.0', '68.00', '58.00', '149.0', '89.00', '63.00', '48.00',\n",
              "       '66.00', '139.0', '103.0', '125.0', '133.0', '138.0', '135.0',\n",
              "       '142.0', '77.00', '62.00', '132.0', '84.00', '64.00', '74.00',\n",
              "       '116.0', '82.00'], dtype=object)"
            ]
          },
          "execution_count": 64,
          "metadata": {},
          "output_type": "execute_result"
        }
      ],
      "source": [
        "df[ 'Horsepower' ].unique()"
      ]
    },
    {
      "cell_type": "code",
      "execution_count": null,
      "id": "2589c69d-1d2d-4d71-84bd-0138a384a313",
      "metadata": {
        "tags": [],
        "id": "2589c69d-1d2d-4d71-84bd-0138a384a313",
        "outputId": "d6fe10b2-b26d-4dd0-e451-948c16b83164"
      },
      "outputs": [
        {
          "data": {
            "text/plain": [
              "array(['130.0', '165.0', '150.0', '140.0', '198.0', '220.0', '215.0',\n",
              "       '225.0', '190.0', '170.0', '160.0', '95.00', '97.00', '85.00',\n",
              "       '88.00', '46.00', '87.00', '90.00', '113.0', '200.0', '210.0',\n",
              "       '193.0', nan, '100.0', '105.0', '175.0', '153.0', '180.0', '110.0',\n",
              "       '72.00', '86.00', '70.00', '76.00', '65.00', '69.00', '60.00',\n",
              "       '80.00', '54.00', '208.0', '155.0', '112.0', '92.00', '145.0',\n",
              "       '137.0', '158.0', '167.0', '94.00', '107.0', '230.0', '49.00',\n",
              "       '75.00', '91.00', '122.0', '67.00', '83.00', '78.00', '52.00',\n",
              "       '61.00', '93.00', '148.0', '129.0', '96.00', '71.00', '98.00',\n",
              "       '115.0', '53.00', '81.00', '79.00', '120.0', '152.0', '102.0',\n",
              "       '108.0', '68.00', '58.00', '149.0', '89.00', '63.00', '48.00',\n",
              "       '66.00', '139.0', '103.0', '125.0', '133.0', '138.0', '135.0',\n",
              "       '142.0', '77.00', '62.00', '132.0', '84.00', '64.00', '74.00',\n",
              "       '116.0', '82.00'], dtype=object)"
            ]
          },
          "execution_count": 65,
          "metadata": {},
          "output_type": "execute_result"
        }
      ],
      "source": [
        "df.replace( '?', np.nan, inplace = True )\n",
        "df[ 'Horsepower' ].unique()"
      ]
    },
    {
      "cell_type": "code",
      "execution_count": null,
      "id": "41e25f2c-0eed-4b3c-8780-e79563814cf7",
      "metadata": {
        "tags": [],
        "id": "41e25f2c-0eed-4b3c-8780-e79563814cf7"
      },
      "outputs": [],
      "source": [
        "df = df.dropna()"
      ]
    },
    {
      "cell_type": "code",
      "execution_count": null,
      "id": "3bcaed86-bf76-4acc-b35e-7f9030510032",
      "metadata": {
        "tags": [],
        "id": "3bcaed86-bf76-4acc-b35e-7f9030510032",
        "outputId": "66624664-2f65-4b0e-a8fb-c74f2ab6dd97"
      },
      "outputs": [
        {
          "data": {
            "text/plain": [
              "array(['130.0', '165.0', '150.0', '140.0', '198.0', '220.0', '215.0',\n",
              "       '225.0', '190.0', '170.0', '160.0', '95.00', '97.00', '85.00',\n",
              "       '88.00', '46.00', '87.00', '90.00', '113.0', '200.0', '210.0',\n",
              "       '193.0', '100.0', '105.0', '175.0', '153.0', '180.0', '110.0',\n",
              "       '72.00', '86.00', '70.00', '76.00', '65.00', '69.00', '60.00',\n",
              "       '80.00', '54.00', '208.0', '155.0', '112.0', '92.00', '145.0',\n",
              "       '137.0', '158.0', '167.0', '94.00', '107.0', '230.0', '49.00',\n",
              "       '75.00', '91.00', '122.0', '67.00', '83.00', '78.00', '52.00',\n",
              "       '61.00', '93.00', '148.0', '129.0', '96.00', '71.00', '98.00',\n",
              "       '115.0', '53.00', '81.00', '79.00', '120.0', '152.0', '102.0',\n",
              "       '108.0', '68.00', '58.00', '149.0', '89.00', '63.00', '48.00',\n",
              "       '66.00', '139.0', '103.0', '125.0', '133.0', '138.0', '135.0',\n",
              "       '142.0', '77.00', '62.00', '132.0', '84.00', '64.00', '74.00',\n",
              "       '116.0', '82.00'], dtype=object)"
            ]
          },
          "execution_count": 68,
          "metadata": {},
          "output_type": "execute_result"
        }
      ],
      "source": [
        "df[ 'Horsepower' ].unique()"
      ]
    },
    {
      "cell_type": "code",
      "execution_count": null,
      "id": "502570ac-5091-4671-9e64-c019a6d9a2c2",
      "metadata": {
        "tags": [],
        "id": "502570ac-5091-4671-9e64-c019a6d9a2c2",
        "outputId": "d776e6bc-4197-4cec-adac-ac41f3d3253a"
      },
      "outputs": [
        {
          "name": "stdout",
          "output_type": "stream",
          "text": [
            "<class 'pandas.core.frame.DataFrame'>\n",
            "Int64Index: 392 entries, 0 to 397\n",
            "Data columns (total 10 columns):\n",
            " #   Column        Non-Null Count  Dtype  \n",
            "---  ------        --------------  -----  \n",
            " 0   MPG           392 non-null    float64\n",
            " 1   Cylinders     392 non-null    int64  \n",
            " 2   Displacement  392 non-null    float64\n",
            " 3   Horsepower    392 non-null    float64\n",
            " 4   Weight        392 non-null    float64\n",
            " 5   Acceleration  392 non-null    float64\n",
            " 6   Model Year    392 non-null    int64  \n",
            " 7   USA           392 non-null    float64\n",
            " 8   EU            392 non-null    float64\n",
            " 9   JPN           392 non-null    float64\n",
            "dtypes: float64(8), int64(2)\n",
            "memory usage: 33.7 KB\n"
          ]
        }
      ],
      "source": [
        "df[ 'Horsepower' ] = df[ 'Horsepower' ].astype( np.float64 )\n",
        "df.info()"
      ]
    },
    {
      "cell_type": "code",
      "execution_count": null,
      "id": "d782c772-a6b0-4c97-95ca-6750f5da8df0",
      "metadata": {
        "tags": [],
        "id": "d782c772-a6b0-4c97-95ca-6750f5da8df0",
        "outputId": "54330ad7-4ee6-45b4-8843-dbc524425e30"
      },
      "outputs": [
        {
          "data": {
            "text/plain": [
              "array([130., 165., 150., 140., 198., 220., 215., 225., 190., 170., 160.,\n",
              "        95.,  97.,  85.,  88.,  46.,  87.,  90., 113., 200., 210., 193.,\n",
              "       100., 105., 175., 153., 180., 110.,  72.,  86.,  70.,  76.,  65.,\n",
              "        69.,  60.,  80.,  54., 208., 155., 112.,  92., 145., 137., 158.,\n",
              "       167.,  94., 107., 230.,  49.,  75.,  91., 122.,  67.,  83.,  78.,\n",
              "        52.,  61.,  93., 148., 129.,  96.,  71.,  98., 115.,  53.,  81.,\n",
              "        79., 120., 152., 102., 108.,  68.,  58., 149.,  89.,  63.,  48.,\n",
              "        66., 139., 103., 125., 133., 138., 135., 142.,  77.,  62., 132.,\n",
              "        84.,  64.,  74., 116.,  82.])"
            ]
          },
          "execution_count": 70,
          "metadata": {},
          "output_type": "execute_result"
        }
      ],
      "source": [
        "df[ 'Horsepower' ].unique()"
      ]
    },
    {
      "cell_type": "code",
      "execution_count": null,
      "id": "14e17419-aa06-4df5-b81b-6b763fbd632c",
      "metadata": {
        "tags": [],
        "id": "14e17419-aa06-4df5-b81b-6b763fbd632c"
      },
      "outputs": [],
      "source": [
        "df.to_csv( 'auto-mpg-clean.csv', index = False )"
      ]
    },
    {
      "cell_type": "code",
      "execution_count": null,
      "id": "89c5890c-f933-4e4a-b25c-127e6143cf72",
      "metadata": {
        "id": "89c5890c-f933-4e4a-b25c-127e6143cf72"
      },
      "outputs": [],
      "source": []
    }
  ],
  "metadata": {
    "kernelspec": {
      "display_name": "Python 3 (ipykernel)",
      "language": "python",
      "name": "python3"
    },
    "language_info": {
      "codemirror_mode": {
        "name": "ipython",
        "version": 3
      },
      "file_extension": ".py",
      "mimetype": "text/x-python",
      "name": "python",
      "nbconvert_exporter": "python",
      "pygments_lexer": "ipython3",
      "version": "3.8.1"
    },
    "colab": {
      "provenance": [],
      "include_colab_link": true
    }
  },
  "nbformat": 4,
  "nbformat_minor": 5
}